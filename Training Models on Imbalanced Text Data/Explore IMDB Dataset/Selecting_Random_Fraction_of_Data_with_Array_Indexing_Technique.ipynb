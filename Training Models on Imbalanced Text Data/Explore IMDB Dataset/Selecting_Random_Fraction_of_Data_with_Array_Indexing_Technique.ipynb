{
  "nbformat": 4,
  "nbformat_minor": 0,
  "metadata": {
    "colab": {
      "name": "Selecting Random Fraction of Data with Array Indexing Technique.ipynb",
      "provenance": []
    },
    "kernelspec": {
      "name": "python3",
      "display_name": "Python 3"
    },
    "language_info": {
      "name": "python"
    }
  },
  "cells": [
    {
      "cell_type": "code",
      "metadata": {
        "id": "nxboA9GNjJO5"
      },
      "source": [
        "from __future__ import absolute_import, division, print_function\n",
        "import os\n",
        "import numpy as np\n",
        "import matplotlib.pyplot as plt\n",
        "import tensorflow as tf"
      ],
      "execution_count": 1,
      "outputs": []
    },
    {
      "cell_type": "code",
      "metadata": {
        "colab": {
          "base_uri": "https://localhost:8080/"
        },
        "id": "mjftYq4pjJMJ",
        "outputId": "fc27ea8a-cf9a-4cbe-e3e2-3bd6825aa95f"
      },
      "source": [
        "(x_train, y_train), (x_test, y_test)=  tf.keras.datasets.imdb.load_data(\n",
        "    path = 'imdb.npz',\n",
        "    num_words = None,\n",
        "    skip_top = 0,\n",
        "    maxlen = None, \n",
        "    seed = 113,\n",
        "    start_char = 1,\n",
        "    oov_char = 2,\n",
        "    index_from = 3\n",
        ")"
      ],
      "execution_count": 2,
      "outputs": [
        {
          "output_type": "stream",
          "text": [
            "<string>:6: VisibleDeprecationWarning: Creating an ndarray from ragged nested sequences (which is a list-or-tuple of lists-or-tuples-or ndarrays with different lengths or shapes) is deprecated. If you meant to do this, you must specify 'dtype=object' when creating the ndarray\n",
            "/usr/local/lib/python3.7/dist-packages/tensorflow/python/keras/datasets/imdb.py:155: VisibleDeprecationWarning: Creating an ndarray from ragged nested sequences (which is a list-or-tuple of lists-or-tuples-or ndarrays with different lengths or shapes) is deprecated. If you meant to do this, you must specify 'dtype=object' when creating the ndarray\n",
            "  x_train, y_train = np.array(xs[:idx]), np.array(labels[:idx])\n",
            "/usr/local/lib/python3.7/dist-packages/tensorflow/python/keras/datasets/imdb.py:156: VisibleDeprecationWarning: Creating an ndarray from ragged nested sequences (which is a list-or-tuple of lists-or-tuples-or ndarrays with different lengths or shapes) is deprecated. If you meant to do this, you must specify 'dtype=object' when creating the ndarray\n",
            "  x_test, y_test = np.array(xs[idx:]), np.array(labels[idx:])\n"
          ],
          "name": "stderr"
        }
      ]
    },
    {
      "cell_type": "code",
      "metadata": {
        "id": "Qp5Q0liTjJKq"
      },
      "source": [
        "unique, counts=  np.unique(y_train, return_counts=  True)"
      ],
      "execution_count": 3,
      "outputs": []
    },
    {
      "cell_type": "code",
      "metadata": {
        "colab": {
          "base_uri": "https://localhost:8080/"
        },
        "id": "C7cWspScjJId",
        "outputId": "c9ff02d9-910f-436d-8608-0bdecc0b62fc"
      },
      "source": [
        "print(np.asarray((unique, counts)))"
      ],
      "execution_count": 4,
      "outputs": [
        {
          "output_type": "stream",
          "text": [
            "[[    0     1]\n",
            " [12500 12500]]\n"
          ],
          "name": "stdout"
        }
      ]
    },
    {
      "cell_type": "code",
      "metadata": {
        "id": "7D098mYFjP4t"
      },
      "source": [
        "idx = np.argwhere(y_train > 0) # select positive comments index in training data\n",
        "np.random.seed(seed = 100) # yse seed to enure selected records are always same\n",
        "np.random.shuffle(idx) # shuffle at random"
      ],
      "execution_count": 5,
      "outputs": []
    },
    {
      "cell_type": "code",
      "metadata": {
        "colab": {
          "base_uri": "https://localhost:8080/"
        },
        "id": "RAbad1x8jP2P",
        "outputId": "6c7c80ca-963f-41cb-f966-6dd477e27bb6"
      },
      "source": [
        "idx"
      ],
      "execution_count": 6,
      "outputs": [
        {
          "output_type": "execute_result",
          "data": {
            "text/plain": [
              "array([[  581],\n",
              "       [  433],\n",
              "       [ 8960],\n",
              "       ...,\n",
              "       [16030],\n",
              "       [13730],\n",
              "       [11208]])"
            ]
          },
          "metadata": {
            "tags": []
          },
          "execution_count": 6
        }
      ]
    },
    {
      "cell_type": "code",
      "metadata": {
        "colab": {
          "base_uri": "https://localhost:8080/"
        },
        "id": "Ap2mxfPNiRrh",
        "outputId": "19d86aff-dc9a-420f-ed84-25f3e11140b9"
      },
      "source": [
        "FRAC = 0.25\n",
        "idxs = idx[:round(FRAC*len(idx))]\n",
        "\n",
        "# fractioned positive cases\n",
        "y_trains = y_train[idxs]\n",
        "x_trains = x_train[idxs]\n",
        "\n",
        "print(len(y_trains), len(x_trains))\n",
        "\n",
        "# preserve negative cases\n",
        "idxn = np.argwhere(y_train==0)\n",
        "x_train0 = x_train[idxn]\n",
        "y_train0 = y_train[idxn]\n",
        "\n",
        "print(len(x_train0), len(y_train0))"
      ],
      "execution_count": 7,
      "outputs": [
        {
          "output_type": "stream",
          "text": [
            "3125 3125\n",
            "12500 12500\n"
          ],
          "name": "stdout"
        }
      ]
    },
    {
      "cell_type": "code",
      "metadata": {
        "colab": {
          "base_uri": "https://localhost:8080/"
        },
        "id": "UED2PTHHrAVu",
        "outputId": "a0fef30b-e289-41ce-b13a-182f54c8312b"
      },
      "source": [
        "over_idxs = np.random.choice(idxs.squeeze(), size = 12500, replace=True)\n",
        "\n",
        "# ovesampled positive reviews\n",
        "y_train1 = y_train[over_idxs]\n",
        "x_train1 = x_train[over_idxs] \n",
        "\n",
        "print(len(y_train1), len(x_train1))\n",
        "print(len(x_train0), len(y_train0))"
      ],
      "execution_count": 8,
      "outputs": [
        {
          "output_type": "stream",
          "text": [
            "12500 12500\n",
            "12500 12500\n"
          ],
          "name": "stdout"
        }
      ]
    }
  ]
}