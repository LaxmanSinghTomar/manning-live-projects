{
  "nbformat": 4,
  "nbformat_minor": 0,
  "metadata": {
    "colab": {
      "name": "Manipulating Data Distributions.ipynb",
      "provenance": []
    },
    "kernelspec": {
      "name": "python3",
      "display_name": "Python 3"
    },
    "language_info": {
      "name": "python"
    }
  },
  "cells": [
    {
      "cell_type": "code",
      "metadata": {
        "id": "3fjr1rT6dFdS"
      },
      "source": [
        "from __future__ import absolute_import, division, print_function\n",
        "import os\n",
        "import numpy as np\n",
        "import matplotlib.pyplot as plt\n",
        "import tensorflow as tf"
      ],
      "execution_count": 1,
      "outputs": []
    },
    {
      "cell_type": "code",
      "metadata": {
        "colab": {
          "base_uri": "https://localhost:8080/"
        },
        "id": "bVqg1ltKdRcO",
        "outputId": "a17f5c43-9479-4b96-ee03-27f49bd6fa51"
      },
      "source": [
        "(x_train, y_train), (x_test, y_test)=  tf.keras.datasets.imdb.load_data(\n",
        "    path = 'imdb.npz',\n",
        "    num_words = None,\n",
        "    skip_top = 0,\n",
        "    maxlen = None, \n",
        "    seed = 113,\n",
        "    start_char = 1,\n",
        "    oov_char = 2,\n",
        "    index_from = 3\n",
        ")"
      ],
      "execution_count": 2,
      "outputs": [
        {
          "output_type": "stream",
          "text": [
            "<string>:6: VisibleDeprecationWarning: Creating an ndarray from ragged nested sequences (which is a list-or-tuple of lists-or-tuples-or ndarrays with different lengths or shapes) is deprecated. If you meant to do this, you must specify 'dtype=object' when creating the ndarray\n",
            "/usr/local/lib/python3.7/dist-packages/tensorflow/python/keras/datasets/imdb.py:155: VisibleDeprecationWarning: Creating an ndarray from ragged nested sequences (which is a list-or-tuple of lists-or-tuples-or ndarrays with different lengths or shapes) is deprecated. If you meant to do this, you must specify 'dtype=object' when creating the ndarray\n",
            "  x_train, y_train = np.array(xs[:idx]), np.array(labels[:idx])\n",
            "/usr/local/lib/python3.7/dist-packages/tensorflow/python/keras/datasets/imdb.py:156: VisibleDeprecationWarning: Creating an ndarray from ragged nested sequences (which is a list-or-tuple of lists-or-tuples-or ndarrays with different lengths or shapes) is deprecated. If you meant to do this, you must specify 'dtype=object' when creating the ndarray\n",
            "  x_test, y_test = np.array(xs[idx:]), np.array(labels[idx:])\n"
          ],
          "name": "stderr"
        }
      ]
    },
    {
      "cell_type": "code",
      "metadata": {
        "id": "HxKix4vVdj5Y"
      },
      "source": [
        "unique, counts=  np.unique(y_train, return_counts=  True)"
      ],
      "execution_count": 3,
      "outputs": []
    },
    {
      "cell_type": "code",
      "metadata": {
        "colab": {
          "base_uri": "https://localhost:8080/"
        },
        "id": "BjI0YQFHeA1J",
        "outputId": "892e9093-707b-45fb-f9fe-7f51a3173e34"
      },
      "source": [
        "print(np.asarray((unique, counts)))"
      ],
      "execution_count": 4,
      "outputs": [
        {
          "output_type": "stream",
          "text": [
            "[[    0     1]\n",
            " [12500 12500]]\n"
          ],
          "name": "stdout"
        }
      ]
    },
    {
      "cell_type": "code",
      "metadata": {
        "id": "diTwi_jueNAt"
      },
      "source": [
        "idx = np.argwhere(y_train > 0) # select positive comments index in training data\n",
        "np.random.seed(seed = 100) # yse seed to enure selected records are always same\n",
        "np.random.shuffle(idx) # shuffle at random"
      ],
      "execution_count": 5,
      "outputs": []
    },
    {
      "cell_type": "code",
      "metadata": {
        "colab": {
          "base_uri": "https://localhost:8080/"
        },
        "id": "0xuarzm7ehNU",
        "outputId": "e6f5d214-f1c8-4cfc-d24c-dcfc97e4ab56"
      },
      "source": [
        "idx"
      ],
      "execution_count": 6,
      "outputs": [
        {
          "output_type": "execute_result",
          "data": {
            "text/plain": [
              "array([[  581],\n",
              "       [  433],\n",
              "       [ 8960],\n",
              "       ...,\n",
              "       [16030],\n",
              "       [13730],\n",
              "       [11208]])"
            ]
          },
          "metadata": {
            "tags": []
          },
          "execution_count": 6
        }
      ]
    },
    {
      "cell_type": "code",
      "metadata": {
        "id": "JoG1PBSSekSV"
      },
      "source": [
        "FRAC = 0.25\n",
        "idxs = idx[:round(FRAC*len(idx))]\n",
        "\n",
        "# fractioned positive cases\n",
        "y_trains = y_train[idxs]\n",
        "x_trains = x_train[idxs]\n",
        "\n",
        "# preserve negative cases\n",
        "idxn = np.argwhere(y_train==0)\n",
        "x_train0 = x_train[idxn]\n",
        "y_train0 = y_train[idxn]"
      ],
      "execution_count": 7,
      "outputs": []
    }
  ]
}